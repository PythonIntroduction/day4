{
 "cells": [
  {
   "cell_type": "markdown",
   "id": "fc530e0a",
   "metadata": {},
   "source": [
    "# Classes and Objects\n",
    "\n",
    "In this Notebook, you will learn about\n",
    "* classes\n",
    "  * defining a class\n",
    "  * initializer function\n",
    "  * attributes\n",
    "  * declaring methods\n",
    "  * relationships between classes\n",
    "* objects\n",
    "  * instantiating an object\n",
    "  * calling methods\n",
    "  * accessing and setting attributes\n",
    "\n",
    "**Object-oriented programming** helps us to model ideas, concepts and our world digitally. We use **classes** to define a blueprint of properties and behaviors. We can then create concrete instances of a class. These instances are called **objects**.\n",
    "\n",
    "The following statement describes a fact in our real world:\n",
    "\n",
    "\"Polly is a cat named \"Polly\". This cat is black.\"\n",
    "\n",
    "This tells us: Cats can have a name and color, while a specific cat's name is \"Polly\" and it has the color \"black\". \n",
    "\n",
    "Cat is the class, while Polly is the object. An object is an instance of a class with specified attributes. \n",
    "\n",
    "## Defining a class with attributes\n",
    "To represent the concept of Cats in Python - to create a class \"Cat\" - you would write the following code."
   ]
  },
  {
   "cell_type": "code",
   "execution_count": null,
   "id": "780bad85",
   "metadata": {},
   "outputs": [],
   "source": [
    "# The keyword \"class\" marks a definition for a new class\n",
    "class Cat:\n",
    "    # The following is the \"initializer\" of the Cat class\n",
    "    # It will allow instantiating objects of this class\n",
    "    def __init__(self, name, color): # We can pass arguments to the initializer. \"self\" references the current object.\n",
    "        self.name = name # Class Cat has an attribute name, which we set to the passed argument\n",
    "        self.color = color # Class Cat has an attribute color, which we set to the passed argument"
   ]
  },
  {
   "cell_type": "markdown",
   "id": "8d21eb7c",
   "metadata": {},
   "source": [
    "*Clean Code Tipp: We capitalize class names to make them easily distinguishable from function names*"
   ]
  },
  {
   "cell_type": "markdown",
   "id": "b6b9d85b",
   "metadata": {},
   "source": [
    "\n",
    "## Instantiating an object\n",
    "\n",
    "You can now use the Cat class to instantiate an object:"
   ]
  },
  {
   "cell_type": "code",
   "execution_count": null,
   "id": "4cd3107c",
   "metadata": {},
   "outputs": [],
   "source": [
    "polly = Cat(\"Polly\", \"black\") # This will call the initializer of the Cat class"
   ]
  },
  {
   "cell_type": "markdown",
   "id": "2717b79f",
   "metadata": {},
   "source": [
    "**Exercise:** Invent and instantiate another cat."
   ]
  },
  {
   "cell_type": "code",
   "execution_count": null,
   "id": "632129d8",
   "metadata": {},
   "outputs": [],
   "source": [
    "# Todo: Your code"
   ]
  },
  {
   "cell_type": "markdown",
   "id": "d1842c18",
   "metadata": {},
   "source": [
    "## Accessing attributes of an object\n",
    "\n",
    "We can access the object's attributes like this: `polly.name`"
   ]
  },
  {
   "cell_type": "markdown",
   "id": "3035e99b",
   "metadata": {},
   "source": [
    "**Exercise:**\n",
    "Using an fstring, print out information about your cat."
   ]
  },
  {
   "cell_type": "code",
   "execution_count": null,
   "id": "a7e1cc62",
   "metadata": {},
   "outputs": [],
   "source": [
    "# Your code"
   ]
  },
  {
   "cell_type": "markdown",
   "id": "ee7eab77",
   "metadata": {},
   "source": [
    "## Defining behavior\n",
    "\n",
    "Cats can purr. To model this behavior digitally, we declare a method in our Cat class.\n"
   ]
  },
  {
   "cell_type": "code",
   "execution_count": null,
   "id": "8fc7af52",
   "metadata": {},
   "outputs": [],
   "source": [
    "class Cat:\n",
    "    def __init__(self, name, color):\n",
    "        self.name = name\n",
    "        self.color = color\n",
    "\n",
    "    def purr(self):\n",
    "        print(\"Prrr... Meow...\")"
   ]
  },
  {
   "cell_type": "markdown",
   "id": "17567724",
   "metadata": {},
   "source": [
    "Let's create a new cat, Heidi, and make it purr."
   ]
  },
  {
   "cell_type": "code",
   "execution_count": null,
   "id": "202f2ec8",
   "metadata": {},
   "outputs": [],
   "source": [
    "heidi = Cat(\"Heidi\", \"brown\")\n",
    "heidi.purr()"
   ]
  },
  {
   "cell_type": "markdown",
   "id": "86927772",
   "metadata": {},
   "source": [
    "We can also class attributes within class methods. Like in the constructor, we access attributes of an object via the reference `self`. \n",
    "\n",
    "**Exercise:** Add a method to the Cat class to provide information about the specific cat (you can re-use your code from before). Instantiate a new cat and call the new method on it."
   ]
  },
  {
   "cell_type": "code",
   "execution_count": null,
   "id": "1375e130",
   "metadata": {},
   "outputs": [],
   "source": [
    "class Cat:\n",
    "    def __init__(self, name, color):\n",
    "        self.name = name\n",
    "        self.color = color\n",
    "\n",
    "    def purr(self):\n",
    "        print(\"Prrr... Meow...\")\n",
    "\n",
    "    # Your code for the method\n",
    "\n",
    "# Your code for instantiating a new cat\n",
    "\n",
    "# and for calling your function on it\n"
   ]
  },
  {
   "cell_type": "markdown",
   "id": "08953aab",
   "metadata": {},
   "source": [
    "## Relationships between classes\n",
    "\n",
    "We can also represent relationships between classes.\n",
    "\n",
    "\"Lola is a person. Lola's cat is Polly.\"\n",
    "\n",
    "This tells us: All Persons can have a name, while Lola's name is \"Lola\". All Persons can have a Cat, while Lola's Cat is the Cat Polly. \n",
    "\n",
    "**Exercise:** In this case, which is the class and which is the object?\n",
    "\n",
    "<details><summary>Solution</summary>Person is the class, and Lola is the object.</details>\n",
    "\n",
    "**Exercise:** What are the attributes of the class?\n",
    "\n",
    "<details><summary>Solution</summary>The Person class should have the attributes name and cat.</details>"
   ]
  },
  {
   "cell_type": "markdown",
   "id": "b83a347b",
   "metadata": {},
   "source": [
    "To represent this concept in Python you would write the following code:"
   ]
  },
  {
   "cell_type": "code",
   "execution_count": null,
   "id": "b0886f16",
   "metadata": {},
   "outputs": [],
   "source": [
    "class Person:\n",
    "    def __init__(self, name, cat):\n",
    "        self.name = name \n",
    "        self.cat = cat # The cat attribute can store a reference to a Cat object\n",
    "\n",
    "lola = Person(\"Lola\", polly) # We pass the Cat instance from before as argument to the initializer of Persons."
   ]
  },
  {
   "cell_type": "markdown",
   "id": "1df12028",
   "metadata": {},
   "source": [
    "**Exercise:** A Person might not always have a Cat. Sometimes a Person adopts a Cat only later in life. Lisa initally has no Cat. Give her a Cat, Tommi. \n",
    "\n",
    "*Hint: Setting an attribute is similar to accessing an attribute.*"
   ]
  },
  {
   "cell_type": "code",
   "execution_count": null,
   "id": "ee7e5c16",
   "metadata": {},
   "outputs": [],
   "source": [
    "class Person:\n",
    "    def __init__(self, name, cat=None): # We set the default value of cat to None\n",
    "        self.name = name\n",
    "        self.cat = cat\n",
    "\n",
    "lisa = Person(\"Lisa\") # Setting a default value for an initializer argument allows us to initialize a person without passing a value for this argument\n",
    "tommi = Cat(\"Tommi\", \"gray\")\n",
    "\n",
    "# Your code to set Lisa's cat attributes\n",
    "\n",
    "print(lisa.cat.name) # Should print \"Tommi\""
   ]
  },
  {
   "cell_type": "markdown",
   "id": "f83a57ee",
   "metadata": {},
   "source": [
    "**Exercise:** Sadly, Tommi has passed away. Update Lisa's cat attribute accordingly."
   ]
  },
  {
   "cell_type": "code",
   "execution_count": null,
   "id": "81c0e7c9",
   "metadata": {},
   "outputs": [],
   "source": [
    "# Your code\n",
    "\n",
    "\n",
    "print(lisa.cat) # Should print \"None\""
   ]
  },
  {
   "cell_type": "markdown",
   "id": "323d8df7",
   "metadata": {},
   "source": [
    "**Exercise:** Add a new method `tell_about_cat()` to make a Person say whether they have a Cat and if so, giving back information from the Cat's info-method you declared earlier. If the Person has no Cat, they should say so (and possibly regret it). "
   ]
  },
  {
   "cell_type": "code",
   "execution_count": null,
   "id": "65ef2c11",
   "metadata": {},
   "outputs": [],
   "source": [
    "class Person:\n",
    "    def __init__(self, name, cat=None): \n",
    "        self.name = name\n",
    "        self.cat = cat\n",
    "\n",
    "    # Your method code\n",
    "\n",
    "pete = Person(\"Pete\")\n",
    "# Call tell_about_cat() on pete\n",
    "\n",
    "tina = Cat(\"Tina\", \"white\")\n",
    "jay = Person(\"Jay\", tina)\n",
    "# Call tell_about_cat() on jay"
   ]
  },
  {
   "cell_type": "markdown",
   "id": "ef3d5054",
   "metadata": {},
   "source": [
    "## More fun with cats"
   ]
  },
  {
   "cell_type": "markdown",
   "id": "aac9d23f",
   "metadata": {},
   "source": [
    "**Exercise:** A Cat should be able to eat when it is hungry. A Cat gets hungry when it plays. Program this functionality into the Cat class and demonstrate it."
   ]
  },
  {
   "cell_type": "code",
   "execution_count": null,
   "id": "e4acaa83",
   "metadata": {},
   "outputs": [],
   "source": [
    "# Your code"
   ]
  },
  {
   "cell_type": "markdown",
   "id": "dbd64d1e",
   "metadata": {},
   "source": [
    "*Feeling creative? Add more attributes and behavior to your classes!*"
   ]
  }
 ],
 "metadata": {
  "kernelspec": {
   "display_name": ".venv",
   "language": "python",
   "name": "python3"
  },
  "language_info": {
   "codemirror_mode": {
    "name": "ipython",
    "version": 3
   },
   "file_extension": ".py",
   "mimetype": "text/x-python",
   "name": "python",
   "nbconvert_exporter": "python",
   "pygments_lexer": "ipython3",
   "version": "3.10.12"
  }
 },
 "nbformat": 4,
 "nbformat_minor": 5
}
