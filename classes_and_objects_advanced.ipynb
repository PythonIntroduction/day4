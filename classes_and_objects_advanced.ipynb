{
 "cells": [
  {
   "cell_type": "markdown",
   "id": "7be4b564",
   "metadata": {},
   "source": [
    "# More with classes and objects\n",
    "Previously you have learned the basics of classes and objects. \n",
    "In this Notebook, you will learn about\n",
    "* class methods\n",
    "* the __str__ method\n",
    "* the factory method pattern\n",
    "* fetching data from the Internet using the requests library\n",
    "\n",
    "You will recap:\n",
    "* file operations\n",
    "* data structures\n",
    "* error handling\n",
    "\n",
    "Additionally, you will practise reading and understanding new, more complex code.\n",
    "\n",
    "**Exercise:** Check out the file pokemon.py. What do you recognize? What is new?\n",
    "\n",
    "**Exercise:** In the following, we import the Pokemon class into this notebook, so we can use it here as a \"library\" of code. Use the Pokemon class to create a JSON file that contains a list of Pokemon. Look at the Pokemon class closely to find out which method to use."
   ]
  },
  {
   "cell_type": "code",
   "execution_count": 1,
   "id": "e91a0229",
   "metadata": {},
   "outputs": [],
   "source": [
    "from pokemon import Pokemon\n",
    "\n",
    "# Your code"
   ]
  },
  {
   "cell_type": "markdown",
   "id": "e567d055",
   "metadata": {},
   "source": [
    "**Exercise:** What happens, when you run the above code for the first time? What changes when you run it for the second time? Look closely at the Pokemon class to find out. Run the code again to see whether you were right. \n",
    "\n",
    "**Exercise:** Open the URL where we get the Pokemon data from in the browser. Which properties does each element in the list have? Compare this list to the list of attributes in the Pokemon class.\n",
    "\n",
    "**Exercise:** Program a Pokemon fight simulation between two random Pokemon.\n",
    "\n",
    "<details><summary>Hint</summary>The Pokemon class has all the methods you need. You just need to combine them with a loop.</details>"
   ]
  },
  {
   "cell_type": "code",
   "execution_count": 2,
   "id": "d049789b",
   "metadata": {},
   "outputs": [],
   "source": [
    "# Your code"
   ]
  },
  {
   "cell_type": "markdown",
   "id": "f0cdd5c6",
   "metadata": {},
   "source": [
    "**Exercise:** Move the functionality you just programmed of having a Pokemon fight into the Pokemon class. Do you need an instance method (which is called on an object) or a class method (which is called on a class)? Call the method to verify that it works."
   ]
  },
  {
   "cell_type": "code",
   "execution_count": 3,
   "id": "383e985e",
   "metadata": {},
   "outputs": [],
   "source": [
    "# Your code for calling the fight method"
   ]
  }
 ],
 "metadata": {
  "kernelspec": {
   "display_name": ".venv",
   "language": "python",
   "name": "python3"
  },
  "language_info": {
   "codemirror_mode": {
    "name": "ipython",
    "version": 3
   },
   "file_extension": ".py",
   "mimetype": "text/x-python",
   "name": "python",
   "nbconvert_exporter": "python",
   "pygments_lexer": "ipython3",
   "version": "3.10.12"
  }
 },
 "nbformat": 4,
 "nbformat_minor": 5
}
